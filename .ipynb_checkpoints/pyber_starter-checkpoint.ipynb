{
 "cells": [
  {
   "cell_type": "code",
   "execution_count": 88,
   "metadata": {},
   "outputs": [
    {
     "data": {
      "text/html": [
       "<div>\n",
       "<style scoped>\n",
       "    .dataframe tbody tr th:only-of-type {\n",
       "        vertical-align: middle;\n",
       "    }\n",
       "\n",
       "    .dataframe tbody tr th {\n",
       "        vertical-align: top;\n",
       "    }\n",
       "\n",
       "    .dataframe thead th {\n",
       "        text-align: right;\n",
       "    }\n",
       "</style>\n",
       "<table border=\"1\" class=\"dataframe\">\n",
       "  <thead>\n",
       "    <tr style=\"text-align: right;\">\n",
       "      <th></th>\n",
       "      <th>city</th>\n",
       "      <th>driver_count</th>\n",
       "      <th>type</th>\n",
       "      <th>date</th>\n",
       "      <th>fare</th>\n",
       "      <th>ride_id</th>\n",
       "    </tr>\n",
       "  </thead>\n",
       "  <tbody>\n",
       "    <tr>\n",
       "      <th>0</th>\n",
       "      <td>Richardfort</td>\n",
       "      <td>38</td>\n",
       "      <td>Urban</td>\n",
       "      <td>2018-02-24 08:40:38</td>\n",
       "      <td>13.93</td>\n",
       "      <td>5628545007794</td>\n",
       "    </tr>\n",
       "    <tr>\n",
       "      <th>1</th>\n",
       "      <td>Richardfort</td>\n",
       "      <td>38</td>\n",
       "      <td>Urban</td>\n",
       "      <td>2018-02-13 12:46:07</td>\n",
       "      <td>14.00</td>\n",
       "      <td>910050116494</td>\n",
       "    </tr>\n",
       "    <tr>\n",
       "      <th>2</th>\n",
       "      <td>Richardfort</td>\n",
       "      <td>38</td>\n",
       "      <td>Urban</td>\n",
       "      <td>2018-02-16 13:52:19</td>\n",
       "      <td>17.92</td>\n",
       "      <td>820639054416</td>\n",
       "    </tr>\n",
       "    <tr>\n",
       "      <th>3</th>\n",
       "      <td>Richardfort</td>\n",
       "      <td>38</td>\n",
       "      <td>Urban</td>\n",
       "      <td>2018-02-01 20:18:28</td>\n",
       "      <td>10.26</td>\n",
       "      <td>9554935945413</td>\n",
       "    </tr>\n",
       "    <tr>\n",
       "      <th>4</th>\n",
       "      <td>Richardfort</td>\n",
       "      <td>38</td>\n",
       "      <td>Urban</td>\n",
       "      <td>2018-04-17 02:26:37</td>\n",
       "      <td>23.00</td>\n",
       "      <td>720020655850</td>\n",
       "    </tr>\n",
       "  </tbody>\n",
       "</table>\n",
       "</div>"
      ],
      "text/plain": [
       "          city  driver_count   type                 date   fare        ride_id\n",
       "0  Richardfort            38  Urban  2018-02-24 08:40:38  13.93  5628545007794\n",
       "1  Richardfort            38  Urban  2018-02-13 12:46:07  14.00   910050116494\n",
       "2  Richardfort            38  Urban  2018-02-16 13:52:19  17.92   820639054416\n",
       "3  Richardfort            38  Urban  2018-02-01 20:18:28  10.26  9554935945413\n",
       "4  Richardfort            38  Urban  2018-04-17 02:26:37  23.00   720020655850"
      ]
     },
     "execution_count": 88,
     "metadata": {},
     "output_type": "execute_result"
    }
   ],
   "source": [
    "#%matplotlib inline\n",
    "# Dependencies and Setup\n",
    "import matplotlib.pyplot as plt\n",
    "import pandas as pd\n",
    "import numpy as np\n",
    "from scipy.stats import sem \n",
    "\n",
    "# File to Load (Remember to change these)\n",
    "city_data_to_load = \"data/city_data.csv\"\n",
    "ride_data_to_load = \"data/ride_data.csv\"\n",
    "\n",
    "# Read the City and Ride Data\n",
    "city_data_to_load_df = pd.read_csv(city_data_to_load)\n",
    "ride_data_to_load_df = pd.read_csv(ride_data_to_load)\n",
    "\n",
    "# Combine the data into a single dataset\n",
    "merged_city_ride= pd.merge(city_data_to_load_df, ride_data_to_load_df, on=\"city\")\n",
    "\n",
    "# Display the data table for preview\n",
    "merged_city_ride.head()"
   ]
  },
  {
   "cell_type": "code",
   "execution_count": 89,
   "metadata": {},
   "outputs": [],
   "source": [
    "suburban_df=merged_city_ride.loc[merged_city_ride['type']== 'Suburban']"
   ]
  },
  {
   "cell_type": "code",
   "execution_count": 90,
   "metadata": {},
   "outputs": [],
   "source": [
    "rural_df=merged_city_ride.loc[merged_city_ride['type']== 'Rural']"
   ]
  },
  {
   "cell_type": "code",
   "execution_count": 91,
   "metadata": {},
   "outputs": [],
   "source": [
    "urban_df=merged_city_ride.loc[merged_city_ride['type']== 'Urban']\n"
   ]
  },
  {
   "cell_type": "code",
   "execution_count": 92,
   "metadata": {},
   "outputs": [
    {
     "data": {
      "text/html": [
       "<div>\n",
       "<style scoped>\n",
       "    .dataframe tbody tr th:only-of-type {\n",
       "        vertical-align: middle;\n",
       "    }\n",
       "\n",
       "    .dataframe tbody tr th {\n",
       "        vertical-align: top;\n",
       "    }\n",
       "\n",
       "    .dataframe thead th {\n",
       "        text-align: right;\n",
       "    }\n",
       "</style>\n",
       "<table border=\"1\" class=\"dataframe\">\n",
       "  <thead>\n",
       "    <tr style=\"text-align: right;\">\n",
       "      <th></th>\n",
       "      <th>city</th>\n",
       "      <th>driver_count</th>\n",
       "      <th>type</th>\n",
       "      <th>date</th>\n",
       "      <th>fare</th>\n",
       "      <th>ride_id</th>\n",
       "    </tr>\n",
       "  </thead>\n",
       "  <tbody>\n",
       "    <tr>\n",
       "      <th>0</th>\n",
       "      <td>Richardfort</td>\n",
       "      <td>38</td>\n",
       "      <td>Urban</td>\n",
       "      <td>2018-02-24 08:40:38</td>\n",
       "      <td>13.93</td>\n",
       "      <td>5628545007794</td>\n",
       "    </tr>\n",
       "    <tr>\n",
       "      <th>1</th>\n",
       "      <td>Richardfort</td>\n",
       "      <td>38</td>\n",
       "      <td>Urban</td>\n",
       "      <td>2018-02-13 12:46:07</td>\n",
       "      <td>14.00</td>\n",
       "      <td>910050116494</td>\n",
       "    </tr>\n",
       "    <tr>\n",
       "      <th>2</th>\n",
       "      <td>Richardfort</td>\n",
       "      <td>38</td>\n",
       "      <td>Urban</td>\n",
       "      <td>2018-02-16 13:52:19</td>\n",
       "      <td>17.92</td>\n",
       "      <td>820639054416</td>\n",
       "    </tr>\n",
       "    <tr>\n",
       "      <th>3</th>\n",
       "      <td>Richardfort</td>\n",
       "      <td>38</td>\n",
       "      <td>Urban</td>\n",
       "      <td>2018-02-01 20:18:28</td>\n",
       "      <td>10.26</td>\n",
       "      <td>9554935945413</td>\n",
       "    </tr>\n",
       "    <tr>\n",
       "      <th>4</th>\n",
       "      <td>Richardfort</td>\n",
       "      <td>38</td>\n",
       "      <td>Urban</td>\n",
       "      <td>2018-04-17 02:26:37</td>\n",
       "      <td>23.00</td>\n",
       "      <td>720020655850</td>\n",
       "    </tr>\n",
       "  </tbody>\n",
       "</table>\n",
       "</div>"
      ],
      "text/plain": [
       "          city  driver_count   type                 date   fare        ride_id\n",
       "0  Richardfort            38  Urban  2018-02-24 08:40:38  13.93  5628545007794\n",
       "1  Richardfort            38  Urban  2018-02-13 12:46:07  14.00   910050116494\n",
       "2  Richardfort            38  Urban  2018-02-16 13:52:19  17.92   820639054416\n",
       "3  Richardfort            38  Urban  2018-02-01 20:18:28  10.26  9554935945413\n",
       "4  Richardfort            38  Urban  2018-04-17 02:26:37  23.00   720020655850"
      ]
     },
     "execution_count": 92,
     "metadata": {},
     "output_type": "execute_result"
    }
   ],
   "source": [
    "urban_df.head()\n"
   ]
  },
  {
   "cell_type": "code",
   "execution_count": 93,
   "metadata": {},
   "outputs": [],
   "source": [
    "total_rides_suburban = suburban_df.groupby([\"city\"]).count()[\"ride_id\"]"
   ]
  },
  {
   "cell_type": "code",
   "execution_count": 94,
   "metadata": {},
   "outputs": [],
   "source": [
    "total_rides_rural = rural_df.groupby([\"city\"]).count()[\"ride_id\"]"
   ]
  },
  {
   "cell_type": "code",
   "execution_count": 95,
   "metadata": {},
   "outputs": [],
   "source": [
    "total_rides_urban = urban_df.groupby([\"city\"]).count()[\"ride_id\"]"
   ]
  },
  {
   "cell_type": "code",
   "execution_count": 96,
   "metadata": {},
   "outputs": [
    {
     "data": {
      "text/plain": [
       "city\n",
       "Amandaburgh             18\n",
       "Barajasview             22\n",
       "Carriemouth             27\n",
       "Christopherfurt         27\n",
       "Deanville               19\n",
       "East Kaylahaven         29\n",
       "Erikaland               12\n",
       "Grahamburgh             25\n",
       "Huntermouth             24\n",
       "Hurleymouth             28\n",
       "Jerryton                25\n",
       "Johnton                 21\n",
       "Joneschester            25\n",
       "Justinberg              30\n",
       "Karenberg               17\n",
       "Karenside               28\n",
       "Lake Danielberg         26\n",
       "Lake Jonathanshire      24\n",
       "Lake Scottton           24\n",
       "Leahton                 21\n",
       "Liumouth                33\n",
       "Loganberg               28\n",
       "Martinezhaven           24\n",
       "New Jacobville          18\n",
       "New Kimberlyborough     30\n",
       "New Paulton             19\n",
       "New Paulville           22\n",
       "North Barbara           22\n",
       "North Jasmine           30\n",
       "North Jason             35\n",
       "                        ..\n",
       "Port Johnbury           22\n",
       "Port Samanthamouth      25\n",
       "Raymondhaven            25\n",
       "Reynoldsfurt            19\n",
       "Richardfort             28\n",
       "Roberthaven             24\n",
       "Robertport              20\n",
       "Rodneyfort              23\n",
       "Rogerston               22\n",
       "Royland                 30\n",
       "Simpsonburgh            24\n",
       "South Evanton           31\n",
       "South Jack              19\n",
       "South Karenland         38\n",
       "South Latoya            19\n",
       "South Michelleport      31\n",
       "South Phillip           31\n",
       "Valentineton            22\n",
       "West Angela             39\n",
       "West Anthony            30\n",
       "West Christopherberg    26\n",
       "West Ericstad           18\n",
       "West Gabriel            23\n",
       "West Heidi              28\n",
       "West Josephberg         26\n",
       "West Patrickchester     16\n",
       "West Robert             31\n",
       "West Samuelburgh        25\n",
       "Williamsstad            23\n",
       "Williamsview            20\n",
       "Name: ride_id, Length: 66, dtype: int64"
      ]
     },
     "execution_count": 96,
     "metadata": {},
     "output_type": "execute_result"
    }
   ],
   "source": [
    "total_rides_urban"
   ]
  },
  {
   "cell_type": "code",
   "execution_count": 97,
   "metadata": {},
   "outputs": [],
   "source": [
    "avg_fare_suburban = suburban_df.groupby([\"city\"]).mean()[\"fare\"]"
   ]
  },
  {
   "cell_type": "code",
   "execution_count": 98,
   "metadata": {},
   "outputs": [],
   "source": [
    "avg_fare_rural = rural_df.groupby([\"city\"]).mean()[\"fare\"]"
   ]
  },
  {
   "cell_type": "code",
   "execution_count": 99,
   "metadata": {},
   "outputs": [],
   "source": [
    "avg_fare_urban = urban_df.groupby([\"city\"]).mean()[\"fare\"]"
   ]
  },
  {
   "cell_type": "code",
   "execution_count": 100,
   "metadata": {},
   "outputs": [
    {
     "data": {
      "text/plain": [
       "city\n",
       "Barronchester         36.42\n",
       "Bethanyland           32.96\n",
       "Brandonfort           35.44\n",
       "Colemanland           30.89\n",
       "Davidfurt             32.00\n",
       "East Aaronbury        25.66\n",
       "East Danielview       31.56\n",
       "East Kentstad         29.82\n",
       "East Marymouth        30.84\n",
       "Grayville             27.76\n",
       "Josephside            32.86\n",
       "Lake Ann              30.89\n",
       "Lake Omar             28.07\n",
       "Lake Robertside       31.26\n",
       "Lake Scott            31.89\n",
       "Lewishaven            25.24\n",
       "Lewisland             34.61\n",
       "Mezachester           30.76\n",
       "Myersshire            30.20\n",
       "New Olivia            34.05\n",
       "New Raymond           27.96\n",
       "New Shannonberg       28.38\n",
       "Nicolechester         30.91\n",
       "North Jeffrey         29.24\n",
       "North Richardhaven    24.70\n",
       "North Timothy         31.26\n",
       "Port Shane            31.08\n",
       "Rodriguezview         30.75\n",
       "Sotoville             31.98\n",
       "South Brenda          33.96\n",
       "South Teresa          31.22\n",
       "Veronicaberg          32.83\n",
       "Victoriaport          27.78\n",
       "West Hannah           29.55\n",
       "West Kimmouth         29.87\n",
       "Williamsonville       31.87\n",
       "Name: fare, dtype: float64"
      ]
     },
     "execution_count": 100,
     "metadata": {},
     "output_type": "execute_result"
    }
   ],
   "source": [
    "round(avg_fare_suburban, 2)"
   ]
  },
  {
   "cell_type": "code",
   "execution_count": 101,
   "metadata": {},
   "outputs": [
    {
     "data": {
      "text/plain": [
       "city\n",
       "Bradshawfurt         40.06\n",
       "Garzaport            24.12\n",
       "Harringtonfort       33.47\n",
       "Jessicaport          36.01\n",
       "Lake Jamie           34.36\n",
       "Lake Latoyabury      26.06\n",
       "Michaelberg          35.00\n",
       "New Ryantown         43.28\n",
       "Newtonview           36.75\n",
       "North Holly          29.13\n",
       "North Jaime          30.80\n",
       "Penaborough          35.25\n",
       "Randallchester       29.74\n",
       "South Jennifer       35.26\n",
       "South Marychester    41.87\n",
       "South Saramouth      36.16\n",
       "Taylorhaven          42.26\n",
       "West Heather         33.89\n",
       "Name: fare, dtype: float64"
      ]
     },
     "execution_count": 101,
     "metadata": {},
     "output_type": "execute_result"
    }
   ],
   "source": [
    "round(avg_fare_rural, 2)"
   ]
  },
  {
   "cell_type": "code",
   "execution_count": 102,
   "metadata": {},
   "outputs": [
    {
     "data": {
      "text/plain": [
       "city\n",
       "Amandaburgh             24.64\n",
       "Barajasview             25.33\n",
       "Carriemouth             28.31\n",
       "Christopherfurt         24.50\n",
       "Deanville               25.84\n",
       "East Kaylahaven         23.76\n",
       "Erikaland               24.91\n",
       "Grahamburgh             25.22\n",
       "Huntermouth             28.99\n",
       "Hurleymouth             25.89\n",
       "Jerryton                25.65\n",
       "Johnton                 26.79\n",
       "Joneschester            22.29\n",
       "Justinberg              23.69\n",
       "Karenberg               26.34\n",
       "Karenside               27.45\n",
       "Lake Danielberg         24.84\n",
       "Lake Jonathanshire      23.43\n",
       "Lake Scottton           23.81\n",
       "Leahton                 21.24\n",
       "Liumouth                26.15\n",
       "Loganberg               25.29\n",
       "Martinezhaven           22.65\n",
       "New Jacobville          26.77\n",
       "New Kimberlyborough     22.59\n",
       "New Paulton             27.82\n",
       "New Paulville           21.68\n",
       "North Barbara           23.49\n",
       "North Jasmine           25.21\n",
       "North Jason             22.74\n",
       "                        ...  \n",
       "Port Johnbury           23.01\n",
       "Port Samanthamouth      25.64\n",
       "Raymondhaven            21.48\n",
       "Reynoldsfurt            21.92\n",
       "Richardfort             22.37\n",
       "Roberthaven             23.73\n",
       "Robertport              23.06\n",
       "Rodneyfort              28.62\n",
       "Rogerston               22.10\n",
       "Royland                 20.57\n",
       "Simpsonburgh            23.36\n",
       "South Evanton           26.73\n",
       "South Jack              22.97\n",
       "South Karenland         26.54\n",
       "South Latoya            20.09\n",
       "South Michelleport      24.45\n",
       "South Phillip           28.57\n",
       "Valentineton            24.64\n",
       "West Angela             25.99\n",
       "West Anthony            24.74\n",
       "West Christopherberg    24.42\n",
       "West Ericstad           22.35\n",
       "West Gabriel            20.35\n",
       "West Heidi              23.13\n",
       "West Josephberg         21.72\n",
       "West Patrickchester     28.23\n",
       "West Robert             25.12\n",
       "West Samuelburgh        21.77\n",
       "Williamsstad            24.36\n",
       "Williamsview            26.60\n",
       "Name: fare, Length: 66, dtype: float64"
      ]
     },
     "execution_count": 102,
     "metadata": {},
     "output_type": "execute_result"
    }
   ],
   "source": [
    "round(avg_fare_urban, 2)"
   ]
  },
  {
   "cell_type": "code",
   "execution_count": null,
   "metadata": {},
   "outputs": [],
   "source": []
  },
  {
   "cell_type": "code",
   "execution_count": 103,
   "metadata": {},
   "outputs": [],
   "source": [
    "driver_count_suburban = suburban_df.groupby([\"city\"])[\"driver_count\"].value_counts()"
   ]
  },
  {
   "cell_type": "code",
   "execution_count": 104,
   "metadata": {},
   "outputs": [],
   "source": [
    "driver_count_rural = rural_df.groupby([\"city\"])[\"driver_count\"].value_counts()"
   ]
  },
  {
   "cell_type": "code",
   "execution_count": 105,
   "metadata": {},
   "outputs": [],
   "source": [
    "driver_count_urban = urban_df.groupby([\"city\"])[\"driver_count\"].value_counts()"
   ]
  },
  {
   "cell_type": "code",
   "execution_count": 106,
   "metadata": {},
   "outputs": [
    {
     "data": {
      "text/plain": [
       "city                  driver_count\n",
       "Amandaburgh           12              18\n",
       "Barajasview           26              22\n",
       "Carriemouth           52              27\n",
       "Christopherfurt       41              27\n",
       "Deanville             49              19\n",
       "East Kaylahaven       65              29\n",
       "Erikaland             37              12\n",
       "Grahamburgh           61              25\n",
       "Huntermouth           37              24\n",
       "Hurleymouth           36              28\n",
       "Jerryton              64              25\n",
       "Johnton               27              21\n",
       "Joneschester          39              25\n",
       "Justinberg            39              30\n",
       "Karenberg             22              17\n",
       "Karenside             5               28\n",
       "Lake Danielberg       19              26\n",
       "Lake Jonathanshire    5               24\n",
       "Lake Scottton         58              24\n",
       "Leahton               17              21\n",
       "Liumouth              69              33\n",
       "Loganberg             23              28\n",
       "Martinezhaven         25              24\n",
       "New Jacobville        50              18\n",
       "New Kimberlyborough   33              30\n",
       "New Paulton           44              19\n",
       "New Paulville         44              22\n",
       "North Barbara         18              22\n",
       "North Jasmine         33              30\n",
       "North Jason           6               35\n",
       "                                      ..\n",
       "Port Johnbury         3               22\n",
       "Port Samanthamouth    57              25\n",
       "Raymondhaven          11              25\n",
       "Reynoldsfurt          67              19\n",
       "Richardfort           38              28\n",
       "Roberthaven           47              24\n",
       "Robertport            12              20\n",
       "Rodneyfort            34              23\n",
       "Rogerston             25              22\n",
       "Royland               64              30\n",
       "Simpsonburgh          21              24\n",
       "South Evanton         11              31\n",
       "South Jack            46              19\n",
       "South Karenland       4               38\n",
       "South Latoya          10              19\n",
       "South Michelleport    72              31\n",
       "South Phillip         38              31\n",
       "Valentineton          45              22\n",
       "West Angela           48              39\n",
       "West Anthony          70              30\n",
       "West Christopherberg  32              26\n",
       "West Ericstad         25              18\n",
       "West Gabriel          57              23\n",
       "West Heidi            28              28\n",
       "West Josephberg       45              26\n",
       "West Patrickchester   25              16\n",
       "West Robert           39              31\n",
       "West Samuelburgh      73              25\n",
       "Williamsstad          59              23\n",
       "Williamsview          46              20\n",
       "Name: driver_count, Length: 66, dtype: int64"
      ]
     },
     "execution_count": 106,
     "metadata": {},
     "output_type": "execute_result"
    }
   ],
   "source": [
    "driver_count_urban"
   ]
  },
  {
   "cell_type": "code",
   "execution_count": null,
   "metadata": {},
   "outputs": [],
   "source": []
  },
  {
   "cell_type": "code",
   "execution_count": 107,
   "metadata": {},
   "outputs": [],
   "source": [
    "rural_df=merged_city_ride.loc[merged_city_ride['type']== 'Rural']"
   ]
  },
  {
   "cell_type": "code",
   "execution_count": 108,
   "metadata": {},
   "outputs": [],
   "source": [
    "suburban_df=merged_city_ride.loc[merged_city_ride['type']== 'Suburban']"
   ]
  },
  {
   "cell_type": "code",
   "execution_count": 109,
   "metadata": {},
   "outputs": [],
   "source": [
    "urban_df = merged_city_ride.loc[merged_city_ride['type']== 'Urban']"
   ]
  },
  {
   "cell_type": "code",
   "execution_count": 110,
   "metadata": {},
   "outputs": [
    {
     "data": {
      "image/png": "[encoded data removed]",
      "text/plain": [
       "<Figure size 432x288 with 1 Axes>"
      ]
     },
     "metadata": {},
     "output_type": "display_data"
    }
   ],
   "source": [
    "plt.scatter(total_rides_suburban, avg_fare_suburban, s=driver_count_suburban * 15, marker=\"o\", facecolors=\"blue\", edgecolors=\"black\",alpha=.5, label=\"Suburban\")\n",
    "plt.scatter(total_rides_rural, avg_fare_rural, s=driver_count_rural * 15, marker=\"o\", facecolors=\"yellow\", edgecolors=\"black\",alpha=.6, label=\"Rural\")\n",
    "plt.scatter(total_rides_urban, avg_fare_urban, s=driver_count_urban * 15, marker=\"o\", facecolors=\"red\", edgecolors=\"black\",alpha=.3, label=\"Urban\")\n",
    "\n",
    "plt.title(\"Pyber Ride Sharing Data 2016\")\n",
    "plt.xlabel(\"Total Number of Rides (Per City)\")\n",
    "plt.ylabel(\"Average Fares ($)\")\n",
    "plt.legend(loc=\"best\", shadow=\"true\")\n",
    "plt.show()\n"
   ]
  },
  {
   "cell_type": "code",
   "execution_count": null,
   "metadata": {},
   "outputs": [],
   "source": []
  },
  {
   "cell_type": "markdown",
   "metadata": {},
   "source": [
    "## Bubble Plot of Ride Sharing Data"
   ]
  },
  {
   "cell_type": "code",
   "execution_count": 111,
   "metadata": {},
   "outputs": [],
   "source": [
    "# Obtain the x and y coordinates for each of the three city types\n",
    "\n",
    "# Build the scatter plots for each city types\n",
    "\n",
    "# Incorporate the other graph properties\n",
    "\n",
    "# Create a legend\n",
    "\n",
    "# Incorporate a text label regarding circle size\n",
    "\n",
    "# Save Figure\n"
   ]
  },
  {
   "cell_type": "code",
   "execution_count": 112,
   "metadata": {},
   "outputs": [],
   "source": [
    "# Show plot\n",
    "plt.show()"
   ]
  },
  {
   "cell_type": "markdown",
   "metadata": {},
   "source": [
    "## Total Fares by City Type"
   ]
  },
  {
   "cell_type": "code",
   "execution_count": 113,
   "metadata": {},
   "outputs": [],
   "source": [
    "# Calculate Type Percents\n",
    "\n",
    "# Build Pie Chart\n",
    "\n",
    "# Save Figure\n"
   ]
  },
  {
   "cell_type": "code",
   "execution_count": 114,
   "metadata": {},
   "outputs": [],
   "source": [
    "# Show Figure\n"
   ]
  },
  {
   "cell_type": "code",
   "execution_count": 115,
   "metadata": {},
   "outputs": [],
   "source": [
    "suburban_fares_sum = suburban_df[\"fare\"].sum()"
   ]
  },
  {
   "cell_type": "code",
   "execution_count": 116,
   "metadata": {},
   "outputs": [],
   "source": [
    "rural_fares_sum = rural_df[\"fare\"].sum()"
   ]
  },
  {
   "cell_type": "code",
   "execution_count": 117,
   "metadata": {},
   "outputs": [],
   "source": [
    "urban_fares_sum = urban_df[\"fare\"].sum()"
   ]
  },
  {
   "cell_type": "code",
   "execution_count": 118,
   "metadata": {},
   "outputs": [
    {
     "data": {
      "text/plain": [
       "39854.380000000005"
      ]
     },
     "execution_count": 118,
     "metadata": {},
     "output_type": "execute_result"
    }
   ],
   "source": [
    "urban_fares_sum"
   ]
  },
  {
   "cell_type": "code",
   "execution_count": null,
   "metadata": {},
   "outputs": [],
   "source": []
  },
  {
   "cell_type": "code",
   "execution_count": 119,
   "metadata": {},
   "outputs": [],
   "source": [
    "city_types = [\"Suburban\", \"Rural\", \"Urban\"]\n",
    "total_fares = [suburban_fares_sum, rural_fares_sum, urban_fares_sum]\n",
    "colors = [\"blue\", \"yellow\", \"red\"]\n",
    "explode = (0,0,0.1)"
   ]
  },
  {
   "cell_type": "code",
   "execution_count": 120,
   "metadata": {},
   "outputs": [
    {
     "data": {
      "text/plain": [
       "<function matplotlib.pyplot.show(*args, **kw)>"
      ]
     },
     "execution_count": 120,
     "metadata": {},
     "output_type": "execute_result"
    },
    {
     "data": {
      "image/png": "[encoded data removed]",
      "text/plain": [
       "<Figure size 432x288 with 1 Axes>"
      ]
     },
     "metadata": {},
     "output_type": "display_data"
    }
   ],
   "source": [
    "plt.pie(total_fares, explode=explode, labels=city_types, colors=colors,\n",
    "        autopct=\"%1.1f%%\", shadow=True, startangle=140)\n",
    "plt.axis(\"equal\")\n",
    "plt.title(\"Percentage of Total Fares by City Type\")\n",
    "plt.show"
   ]
  },
  {
   "cell_type": "markdown",
   "metadata": {},
   "source": [
    "## Total Rides by City Type"
   ]
  },
  {
   "cell_type": "code",
   "execution_count": 121,
   "metadata": {},
   "outputs": [],
   "source": [
    "# Calculate Ride Percents\n",
    "\n",
    "# Build Pie Chart\n",
    "\n",
    "# Save Figure\n"
   ]
  },
  {
   "cell_type": "code",
   "execution_count": 122,
   "metadata": {},
   "outputs": [],
   "source": [
    "# Show Figure"
   ]
  },
  {
   "cell_type": "code",
   "execution_count": 123,
   "metadata": {},
   "outputs": [],
   "source": [
    "urban_rides = urban_df[\"ride_id\"].count()"
   ]
  },
  {
   "cell_type": "code",
   "execution_count": 124,
   "metadata": {},
   "outputs": [],
   "source": [
    "suburban_rides = suburban_df[\"ride_id\"].count()"
   ]
  },
  {
   "cell_type": "code",
   "execution_count": 125,
   "metadata": {},
   "outputs": [],
   "source": [
    "rural_rides = rural_df[\"ride_id\"].count()"
   ]
  },
  {
   "cell_type": "code",
   "execution_count": 126,
   "metadata": {},
   "outputs": [],
   "source": [
    "city_types = [\"Suburban\", \"Rural\", \"Urban\"]\n",
    "total_rides = [suburban_rides, rural_rides, urban_rides]\n",
    "colors = [\"blue\", \"yellow\", \"red\"]\n",
    "explode = (0.1,0.05,0)"
   ]
  },
  {
   "cell_type": "code",
   "execution_count": 127,
   "metadata": {},
   "outputs": [
    {
     "data": {
      "text/plain": [
       "<function matplotlib.pyplot.show(*args, **kw)>"
      ]
     },
     "execution_count": 127,
     "metadata": {},
     "output_type": "execute_result"
    },
    {
     "data": {
      "image/png": "[encoded data removed]",
      "text/plain": [
       "<Figure size 432x288 with 1 Axes>"
      ]
     },
     "metadata": {},
     "output_type": "display_data"
    }
   ],
   "source": [
    "plt.pie(total_rides, explode=explode, labels=city_types, colors=colors,\n",
    "        autopct=\"%1.1f%%\", shadow=True, startangle=140)\n",
    "plt.axis(\"equal\")\n",
    "plt.title(\" Total Rides by City Type\")\n",
    "plt.show"
   ]
  },
  {
   "cell_type": "markdown",
   "metadata": {},
   "source": [
    "## Total Drivers by City Type"
   ]
  },
  {
   "cell_type": "code",
   "execution_count": 128,
   "metadata": {},
   "outputs": [],
   "source": [
    "# Calculate Driver Percents\n",
    "\n",
    "# Build Pie Charts\n",
    "\n",
    "# Save Figure\n"
   ]
  },
  {
   "cell_type": "code",
   "execution_count": 129,
   "metadata": {
    "scrolled": true
   },
   "outputs": [],
   "source": [
    "# Show Figure\n"
   ]
  },
  {
   "cell_type": "code",
   "execution_count": null,
   "metadata": {},
   "outputs": [],
   "source": []
  },
  {
   "cell_type": "code",
   "execution_count": 130,
   "metadata": {},
   "outputs": [],
   "source": [
    "suburban_drivers = suburban_df[\"driver_count\"].sum()"
   ]
  },
  {
   "cell_type": "code",
   "execution_count": 131,
   "metadata": {},
   "outputs": [],
   "source": [
    "rural_drivers = rural_df[\"driver_count\"].sum()"
   ]
  },
  {
   "cell_type": "code",
   "execution_count": 132,
   "metadata": {},
   "outputs": [],
   "source": [
    "urban_drivers = urban_df[\"driver_count\"].sum()"
   ]
  },
  {
   "cell_type": "code",
   "execution_count": 133,
   "metadata": {},
   "outputs": [],
   "source": [
    "city_types = [\"Suburban\", \"Rural\", \"Urban\"]\n",
    "total_drivers = [suburban_drivers, rural_drivers, urban_drivers]\n",
    "colors = [\"blue\", \"yellow\", \"red\"]\n",
    "explode = (0.05,0.1,.05)"
   ]
  },
  {
   "cell_type": "code",
   "execution_count": 134,
   "metadata": {},
   "outputs": [
    {
     "data": {
      "text/plain": [
       "<function matplotlib.pyplot.show(*args, **kw)>"
      ]
     },
     "execution_count": 134,
     "metadata": {},
     "output_type": "execute_result"
    },
    {
     "data": {
      "image/png": "[encoded data removed]",
      "text/plain": [
       "<Figure size 432x288 with 1 Axes>"
      ]
     },
     "metadata": {},
     "output_type": "display_data"
    }
   ],
   "source": [
    "plt.pie(total_drivers, explode=explode, labels=city_types, colors=colors,\n",
    "        autopct=\"%1.1f%%\", shadow=True, startangle=140)\n",
    "plt.axis(\"equal\")\n",
    "plt.title(\" Total Drivers by City Type\")\n",
    "plt.show"
   ]
  },
  {
   "cell_type": "code",
   "execution_count": null,
   "metadata": {},
   "outputs": [],
   "source": []
  }
 ],
 "metadata": {
  "anaconda-cloud": {},
  "kernelspec": {
   "display_name": "Python 3",
   "language": "python",
   "name": "python3"
  },
  "language_info": {
   "codemirror_mode": {
    "name": "ipython",
    "version": 3
   },
   "file_extension": ".py",
   "mimetype": "text/x-python",
   "name": "python",
   "nbconvert_exporter": "python",
   "pygments_lexer": "ipython3",
   "version": "3.6.5"
  }
 },
 "nbformat": 4,
 "nbformat_minor": 2
}
